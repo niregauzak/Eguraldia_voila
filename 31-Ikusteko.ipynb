{
 "cells": [
  {
   "cell_type": "markdown",
   "id": "00371986",
   "metadata": {},
   "source": [
    "## AEMET-ko datuen historiala¶"
   ]
  },
  {
   "cell_type": "code",
   "execution_count": 1,
   "id": "abcbb756",
   "metadata": {},
   "outputs": [],
   "source": [
    "import numpy as np\n",
    "import matplotlib.pyplot as plt\n",
    "import ipywidgets as widgets\n",
    "from ipywidgets import interactive, HBox, VBox, TwoByTwoLayout\n",
    "%matplotlib inline"
   ]
  },
  {
   "cell_type": "code",
   "execution_count": 2,
   "id": "506dac77",
   "metadata": {},
   "outputs": [],
   "source": [
    "##Autocompletaion\n",
    "%config Completer.use_jedi = False\n",
    "import pandas as pd\n",
    "import glob\n",
    "import os\n",
    "# %matplotlib notebook\n",
    "\n",
    "#Grafikak hobetu ikusteko\n",
    "from jupyterthemes import jtplot\n",
    "jtplot.style()"
   ]
  },
  {
   "cell_type": "code",
   "execution_count": 3,
   "id": "4c1f78cc",
   "metadata": {},
   "outputs": [],
   "source": [
    "#plt.rcParams.get('figure.figsize') \n",
    "plt.rcParams['figure.figsize'] = (9.6,8.4)"
   ]
  },
  {
   "cell_type": "markdown",
   "id": "1c9faf3d",
   "metadata": {},
   "source": [
    "### 1) Datual lortu"
   ]
  },
  {
   "cell_type": "code",
   "execution_count": 4,
   "id": "1396d560",
   "metadata": {},
   "outputs": [],
   "source": [
    "f_csv='./Denak_batera.csv'\n",
    "\n",
    "if os.path.exists(f_csv):\n",
    "    df_all = pd.read_csv(f_csv, sep='\\t')\n",
    "else:\n",
    "    print(\"Fitxeroa ez dago\")"
   ]
  },
  {
   "cell_type": "code",
   "execution_count": 5,
   "id": "9add3074",
   "metadata": {},
   "outputs": [
    {
     "data": {
      "text/plain": [
       "(30533, 9)"
      ]
     },
     "execution_count": 5,
     "metadata": {},
     "output_type": "execute_result"
    }
   ],
   "source": [
    "df_all.shape"
   ]
  },
  {
   "cell_type": "code",
   "execution_count": 6,
   "id": "72cee695",
   "metadata": {},
   "outputs": [
    {
     "data": {
      "text/html": [
       "<div>\n",
       "<style scoped>\n",
       "    .dataframe tbody tr th:only-of-type {\n",
       "        vertical-align: middle;\n",
       "    }\n",
       "\n",
       "    .dataframe tbody tr th {\n",
       "        vertical-align: top;\n",
       "    }\n",
       "\n",
       "    .dataframe thead th {\n",
       "        text-align: right;\n",
       "    }\n",
       "</style>\n",
       "<table border=\"1\" class=\"dataframe\">\n",
       "  <thead>\n",
       "    <tr style=\"text-align: right;\">\n",
       "      <th></th>\n",
       "      <th>Eguna</th>\n",
       "      <th>Hilab</th>\n",
       "      <th>Urtea</th>\n",
       "      <th>Tokia</th>\n",
       "      <th>Tmax</th>\n",
       "      <th>Tmin</th>\n",
       "      <th>Tmean</th>\n",
       "      <th>Vmax</th>\n",
       "      <th>Euria</th>\n",
       "    </tr>\n",
       "  </thead>\n",
       "  <tbody>\n",
       "    <tr>\n",
       "      <th>0</th>\n",
       "      <td>21</td>\n",
       "      <td>9</td>\n",
       "      <td>2019</td>\n",
       "      <td>Donostia</td>\n",
       "      <td>28.7</td>\n",
       "      <td>23.4</td>\n",
       "      <td>26.1</td>\n",
       "      <td>33.0</td>\n",
       "      <td>0.0</td>\n",
       "    </tr>\n",
       "    <tr>\n",
       "      <th>1</th>\n",
       "      <td>21</td>\n",
       "      <td>9</td>\n",
       "      <td>2019</td>\n",
       "      <td>Bilbo</td>\n",
       "      <td>28.0</td>\n",
       "      <td>19.4</td>\n",
       "      <td>23.7</td>\n",
       "      <td>25.0</td>\n",
       "      <td>0.0</td>\n",
       "    </tr>\n",
       "    <tr>\n",
       "      <th>2</th>\n",
       "      <td>21</td>\n",
       "      <td>9</td>\n",
       "      <td>2019</td>\n",
       "      <td>Gasteiz</td>\n",
       "      <td>24.9</td>\n",
       "      <td>14.9</td>\n",
       "      <td>19.9</td>\n",
       "      <td>26.0</td>\n",
       "      <td>0.0</td>\n",
       "    </tr>\n",
       "    <tr>\n",
       "      <th>3</th>\n",
       "      <td>21</td>\n",
       "      <td>9</td>\n",
       "      <td>2019</td>\n",
       "      <td>Iruña</td>\n",
       "      <td>27.8</td>\n",
       "      <td>16.5</td>\n",
       "      <td>22.1</td>\n",
       "      <td>38.0</td>\n",
       "      <td>1.6</td>\n",
       "    </tr>\n",
       "    <tr>\n",
       "      <th>4</th>\n",
       "      <td>21</td>\n",
       "      <td>9</td>\n",
       "      <td>2019</td>\n",
       "      <td>Reus</td>\n",
       "      <td>26.9</td>\n",
       "      <td>18.3</td>\n",
       "      <td>22.6</td>\n",
       "      <td>23.0</td>\n",
       "      <td>6.3</td>\n",
       "    </tr>\n",
       "  </tbody>\n",
       "</table>\n",
       "</div>"
      ],
      "text/plain": [
       "   Eguna  Hilab  Urtea     Tokia  Tmax  Tmin  Tmean  Vmax  Euria\n",
       "0     21      9   2019  Donostia  28.7  23.4   26.1  33.0    0.0\n",
       "1     21      9   2019     Bilbo  28.0  19.4   23.7  25.0    0.0\n",
       "2     21      9   2019   Gasteiz  24.9  14.9   19.9  26.0    0.0\n",
       "3     21      9   2019     Iruña  27.8  16.5   22.1  38.0    1.6\n",
       "4     21      9   2019      Reus  26.9  18.3   22.6  23.0    6.3"
      ]
     },
     "execution_count": 6,
     "metadata": {},
     "output_type": "execute_result"
    }
   ],
   "source": [
    "df_all.head()"
   ]
  },
  {
   "cell_type": "markdown",
   "id": "97219c41",
   "metadata": {},
   "source": [
    "### 2) Kalkulatu euria"
   ]
  },
  {
   "cell_type": "code",
   "execution_count": 7,
   "id": "86b64edf",
   "metadata": {},
   "outputs": [],
   "source": [
    "#Dataframe berri bat euri-egunekin bakarrik (>1 litro)\n",
    "euridunak= df_all[df_all['Euria'] > 1]\n",
    "\n",
    "#Taldeak egin: Tokia eta urteko\n",
    "euria_urteko=euridunak.sort_values(['Tokia','Urtea'],ascending=True).groupby(['Tokia','Urtea'], sort = False).sum()['Euria']\n",
    "\n",
    "#Euri-egunak zenbatu toki eta urteko bakoitzerko\n",
    "#Zutabe guztietan kalkulatzen du, baina nik behin behar det. Fetxa zutabera-ko datua gordeko dut, behin bakarrik edukitzeko\n",
    "euri_egunak=euridunak.sort_values(['Tokia','Urtea'],ascending=True).groupby(['Tokia','Urtea']).agg(np.size)['Eguna']"
   ]
  },
  {
   "cell_type": "markdown",
   "id": "dc63856f",
   "metadata": {},
   "source": [
    "# EURI GRAFIKAK\n",
    "Grafika 1: Urte bakoitzeko euri kopurua. Tokia aukeratu daiteke\n",
    "<br>\n",
    "Grafika 2: Urte bakoitzeko euri egunak. Tokia aukeratu daiteke\n",
    "<br>\n",
    "Grafika 3: Hilabete bakoitzeko euri kopurua. Tokia eta urtea aukeratu daitezke\n",
    "<br>\n",
    "Grafika 4: Hilabete bakoitzeko euri-egunak. Tokia eta urtea aukeratu daitezke\n",
    "<br>\n",
    "Grafika 5: Toki baterako, urte desberdineko hilabeteak konparatu"
   ]
  },
  {
   "cell_type": "markdown",
   "id": "d16eefc5",
   "metadata": {},
   "source": [
    "### Grafika 1: Urte bakoitzeko euri kopurua. Tokia aukeratu daiteke"
   ]
  },
  {
   "cell_type": "code",
   "execution_count": 8,
   "id": "9d93fe05",
   "metadata": {},
   "outputs": [],
   "source": [
    "ch1_don=widgets.Checkbox(value=True, description=\"Donostia\")\n",
    "ch1_bil=widgets.Checkbox(value=False, description=\"Bilbo\")\n",
    "ch1_gas=widgets.Checkbox(value=False, description=\"Gasteiz\")\n",
    "ch1_iru=widgets.Checkbox(value=False, description=\"Iruña\")\n",
    "ch1_afj=widgets.Checkbox(value=False, description=\"Alforja (AE)\")\n",
    "ch1_reu=widgets.Checkbox(value=False, description=\"Reus\")\n",
    "ch1_tgn=widgets.Checkbox(value=False, description=\"Tarragona\")\n",
    "ch1_vig=widgets.Checkbox(value=False, description=\"Vigo\")\n",
    "ch1_vlp=widgets.Checkbox(value=False, description=\"Vilaplana\")\n",
    "ch1_mus=widgets.Checkbox(value=False, description=\"Mussara\")\n",
    "ch1_alf=widgets.Checkbox(value=False, description=\"Alforja (MP)\")\n",
    "ch1_ale=widgets.Checkbox(value=False, description=\"L'Aleixar\")\n",
    "ch1_alb=widgets.Checkbox(value=False, description=\"L'Albiol\")\n",
    "\n",
    "box11 = VBox([ch1_don,ch1_bil,ch1_gas])\n",
    "box12 = VBox([ch1_iru,ch1_afj,ch1_reu])\n",
    "box13 = VBox([ch1_tgn,ch1_vig,ch1_vlp])\n",
    "box14 = VBox([ch1_alf,ch1_mus,ch1_ale,ch1_alb])\n"
   ]
  },
  {
   "cell_type": "code",
   "execution_count": 9,
   "id": "2b1325d0",
   "metadata": {},
   "outputs": [],
   "source": [
    "def plot_gr1(ch_don,ch_bil,ch_gas,ch_iru,ch_afj,ch_reu,ch_tgn,ch_vig,ch_vlp,ch_mus,ch_alf,ch_ale,ch_alb):#Aurrena, toki baten euridun egunak gorde DF berri batean\n",
    "    plt.clf()\n",
    "    plt.cla()\n",
    "    plt.close()\n",
    "    df_gr1=pd.DataFrame()\n",
    "#Hurcrengoak bi kondizio ditu, eta aurkitu nuen Numpy-k hobeto egiten duela:\n",
    "#https://towardsdatascience.com/fix-valueerror-truth-value-of-a-series-is-ambiguous-pandas-a683f0fd1b2f\n",
    "    if (ch_don):\n",
    "        df_don = euridunak[euridunak['Tokia'] == 'Donostia']\n",
    "    else:\n",
    "        df_don = pd.DataFrame()\n",
    "        \n",
    "    if (ch_bil):\n",
    "        df_bil = euridunak[euridunak['Tokia'] == 'Bilbo']\n",
    "    else:\n",
    "        df_bil = pd.DataFrame()\n",
    "    \n",
    "    if (ch_gas):\n",
    "        df_gas = euridunak[euridunak['Tokia'] == 'Gasteiz']\n",
    "    else:\n",
    "        df_gas = pd.DataFrame()\n",
    "    \n",
    "    if (ch_iru):\n",
    "        df_iru = euridunak[euridunak['Tokia'] == 'Iruña']\n",
    "    else:\n",
    "        df_iru = pd.DataFrame()\n",
    "        \n",
    "    if (ch_afj):\n",
    "        df_afj = euridunak[euridunak['Tokia'] == 'Alforja (AEMET)']\n",
    "    else:\n",
    "        df_afj = pd.DataFrame()\n",
    "    \n",
    "    if (ch_reu):\n",
    "        df_reu = euridunak[euridunak['Tokia'] == 'Reus']\n",
    "    else:\n",
    "        df_reu = pd.DataFrame()\n",
    "    \n",
    "    if (ch_tgn):\n",
    "        df_tgn = euridunak[euridunak['Tokia'] == 'Tarragona']\n",
    "    else:\n",
    "        df_tgn = pd.DataFrame()\n",
    "    \n",
    "    if (ch_vig):\n",
    "        df_vig = euridunak[euridunak['Tokia'] == 'Vigo']\n",
    "    else:\n",
    "        df_vig = pd.DataFrame()\n",
    "        \n",
    "    if (ch_vlp):\n",
    "        df_vlp = euridunak[euridunak['Tokia'] == 'vilaplana']\n",
    "    else:\n",
    "        df_vlp = pd.DataFrame()\n",
    "        \n",
    "    if (ch_alf):\n",
    "        df_alf = euridunak[euridunak['Tokia'] == 'alforja (MeteoPr)']\n",
    "    else:\n",
    "        df_alf = pd.DataFrame()\n",
    "        \n",
    "    if (ch_mus):\n",
    "        df_mus = euridunak[euridunak['Tokia'] == 'la-mussara']\n",
    "    else:\n",
    "        df_mus = pd.DataFrame()\n",
    "        \n",
    "    if (ch_ale):\n",
    "        df_ale = euridunak[euridunak['Tokia'] == 'laleixar']\n",
    "    else:\n",
    "        df_ale = pd.DataFrame()\n",
    "        \n",
    "    if (ch_alb):\n",
    "        df_alb = euridunak[euridunak['Tokia'] == 'lalbiol']\n",
    "    else:\n",
    "        df_alb = pd.DataFrame()\n",
    "        \n",
    "    df_gr1 = pd.concat([df_don, df_bil,df_gas,df_iru,df_afj,df_reu,df_tgn,df_vig,df_vlp,df_alf,df_mus,df_ale,df_alb], ignore_index=True, axis=0)\n",
    "    \n",
    "    #Orain, Hilabete eta urteka taldekatu\n",
    "    datuak_gr1=df_gr1.sort_values(['Urtea','Tokia'],ascending=True).groupby(['Urtea','Tokia'], sort = False).sum()['Euria'] \n",
    "\n",
    "    datuak_gr1.unstack().plot(kind='bar')\n",
    "\n",
    "    plt.xticks(rotation=45)\n",
    "    #plt.yticks(color='red')\n",
    "    plt.ylabel('Euria (l)',fontsize='20')\n",
    "    plt.title('Euria (l)',fontsize='14')\n",
    "\n",
    "    return plt.show()\n"
   ]
  },
  {
   "cell_type": "code",
   "execution_count": 10,
   "id": "5ac3559e",
   "metadata": {},
   "outputs": [
    {
     "data": {
      "application/vnd.jupyter.widget-view+json": {
       "model_id": "b6b87eaf3b1a441e9e462f5c5965567e",
       "version_major": 2,
       "version_minor": 0
      },
      "text/plain": [
       "HBox(children=(VBox(children=(Checkbox(value=True, description='Donostia'), Checkbox(value=False, description=…"
      ]
     },
     "metadata": {},
     "output_type": "display_data"
    },
    {
     "data": {
      "application/vnd.jupyter.widget-view+json": {
       "model_id": "bb0c7f2eb83c45aea861d09137df99a0",
       "version_major": 2,
       "version_minor": 0
      },
      "text/plain": [
       "Output()"
      ]
     },
     "metadata": {},
     "output_type": "display_data"
    }
   ],
   "source": [
    "\n",
    "ui1 = widgets.HBox([box11,box12,box13,box14])\n",
    "\n",
    "out1 = widgets.interactive_output(plot_gr1, {'ch_don':ch1_don,'ch_bil': ch1_bil, 'ch_gas': ch1_gas,'ch_iru': ch1_iru,'ch_afj': ch1_afj, 'ch_reu': ch1_reu,'ch_tgn': ch1_tgn,'ch_vig': ch1_vig, 'ch_vlp': ch1_vlp,'ch_alf': ch1_alf,'ch_mus': ch1_mus, 'ch_alb': ch1_alb,'ch_ale': ch1_ale}) #kkk\n",
    "\n",
    "display(ui1, out1)"
   ]
  },
  {
   "cell_type": "markdown",
   "id": "7c057d20",
   "metadata": {},
   "source": [
    "### Grafika 2: Urte bakoitzeko euri egunak. Tokia aukeratu daiteke"
   ]
  },
  {
   "cell_type": "code",
   "execution_count": 11,
   "id": "3c108b97",
   "metadata": {},
   "outputs": [],
   "source": [
    "ch2_don=widgets.Checkbox(value=True, description=\"Donostia\")\n",
    "ch2_bil=widgets.Checkbox(value=False, description=\"Bilbo\")\n",
    "ch2_gas=widgets.Checkbox(value=False, description=\"Gasteiz\")\n",
    "ch2_iru=widgets.Checkbox(value=False, description=\"Iruña\")\n",
    "ch2_afj=widgets.Checkbox(value=False, description=\"Alforja (AEMET)\")\n",
    "ch2_reu=widgets.Checkbox(value=False, description=\"Reus\")\n",
    "ch2_tgn=widgets.Checkbox(value=False, description=\"Tarragona\")\n",
    "ch2_vig=widgets.Checkbox(value=False, description=\"Vigo\")\n",
    "ch2_vlp=widgets.Checkbox(value=False, description=\"Vilaplana\")\n",
    "ch2_mus=widgets.Checkbox(value=False, description=\"Mussara\")\n",
    "ch2_alf=widgets.Checkbox(value=False, description=\"Alforja (MeteoPr)\")\n",
    "ch2_ale=widgets.Checkbox(value=False, description=\"L'Aleixar\")\n",
    "ch2_alb=widgets.Checkbox(value=False, description=\"L'Albiol\")\n",
    "\n",
    "box21 = VBox([ch2_don,ch2_bil,ch2_gas])\n",
    "box22 = VBox([ch2_iru,ch2_afj,ch2_reu])\n",
    "box23 = VBox([ch2_tgn,ch2_alf,ch2_ale])\n",
    "box24 = VBox([ch2_vlp,ch2_mus,ch2_alb,ch2_vig])\n"
   ]
  },
  {
   "cell_type": "code",
   "execution_count": 12,
   "id": "5ff8a75a",
   "metadata": {},
   "outputs": [],
   "source": [
    "def plot_gr2(ch_don,ch_bil,ch_gas,ch_iru,ch_afj,ch_reu,ch_tgn,ch_vig,ch_vlp,ch_mus,ch_alf,ch_ale,ch_alb):#Aurre\n",
    "    plt.cla()\n",
    "    plt.close()\n",
    "    df_gr2=pd.DataFrame()\n",
    "#Hurcrengoak bi kondizio ditu, eta aurkitu nuen Numpy-k hobeto egiten duela:\n",
    "#https://towardsdatascience.com/fix-valueerror-truth-value-of-a-series-is-ambiguous-pandas-a683f0fd1b2f\n",
    "    if (ch_don):\n",
    "        df_don = euridunak[euridunak['Tokia'] == 'Donostia']\n",
    "    else:\n",
    "        df_don = pd.DataFrame()\n",
    "        \n",
    "    if (ch_bil):\n",
    "        df_bil = euridunak[euridunak['Tokia'] == 'Bilbo']\n",
    "    else:\n",
    "        df_bil = pd.DataFrame()\n",
    "    \n",
    "    if (ch_gas):\n",
    "        df_gas = euridunak[euridunak['Tokia'] == 'Gasteiz']\n",
    "    else:\n",
    "        df_gas = pd.DataFrame()\n",
    "    \n",
    "    if (ch_iru):\n",
    "        df_iru = euridunak[euridunak['Tokia'] == 'Iruña']\n",
    "    else:\n",
    "        df_iru = pd.DataFrame()\n",
    "    \n",
    "    if (ch_afj):\n",
    "        df_afj = euridunak[euridunak['Tokia'] == 'Alforja']\n",
    "    else:\n",
    "        df_afj = pd.DataFrame()\n",
    "    \n",
    "    if (ch_reu):\n",
    "        df_reu = euridunak[euridunak['Tokia'] == 'Reus']\n",
    "    else:\n",
    "        df_reu = pd.DataFrame()\n",
    "    \n",
    "    if (ch_tgn):\n",
    "        df_tgn = euridunak[euridunak['Tokia'] == 'Tarragona']\n",
    "    else:\n",
    "        df_tgn = pd.DataFrame()\n",
    "    \n",
    "    if (ch_vig):\n",
    "        df_vig = euridunak[euridunak['Tokia'] == 'Vigo']\n",
    "    else:\n",
    "        df_vig = pd.DataFrame()\n",
    "    \n",
    "    if (ch_vlp):\n",
    "        df_vlp = euridunak[euridunak['Tokia'] == 'vilaplana']\n",
    "    else:\n",
    "        df_vlp = pd.DataFrame()\n",
    "        \n",
    "    if (ch_alf):\n",
    "        df_alf = euridunak[euridunak['Tokia'] == 'alforja']\n",
    "    else:\n",
    "        df_alf = pd.DataFrame()\n",
    "        \n",
    "    if (ch_mus):\n",
    "        df_mus = euridunak[euridunak['Tokia'] == 'la-mussara']\n",
    "    else:\n",
    "        df_mus = pd.DataFrame()\n",
    "        \n",
    "    if (ch_ale):\n",
    "        df_ale = euridunak[euridunak['Tokia'] == 'laleixar']\n",
    "    else:\n",
    "        df_ale = pd.DataFrame()\n",
    "        \n",
    "    if (ch_alb):\n",
    "        df_alb = euridunak[euridunak['Tokia'] == 'lalbiol']\n",
    "    else:\n",
    "        df_alb = pd.DataFrame()\n",
    "        \n",
    "    df_gr2 = pd.concat([df_don, df_bil,df_gas,df_iru,df_afj,df_reu,df_tgn,df_vig,df_vlp,df_alf,df_mus,df_ale,df_alb], ignore_index=True, axis=0)\n",
    "\n",
    "#Orain, Hilabete eta urteka taldekatu\n",
    "    datuak_gr2=df_gr2.sort_values(['Urtea','Tokia'],ascending=True).groupby(['Urtea','Tokia'], sort = False).agg(np.size)['Eguna']\n",
    "    \n",
    "    datuak_gr2.unstack().plot(kind='bar')\n",
    "\n",
    "    plt.xticks(rotation=45)\n",
    "    #plt.yticks(color='red')\n",
    "    plt.ylabel('Euri-egunak',fontsize='20')\n",
    "    plt.title('Euri-egunak',fontsize='14')\n",
    "    plt.rcParams['figure.figsize'] = (12.8,11.2)\n",
    "\n",
    "    return plt.show()"
   ]
  },
  {
   "cell_type": "code",
   "execution_count": 13,
   "id": "5e818207",
   "metadata": {},
   "outputs": [
    {
     "data": {
      "application/vnd.jupyter.widget-view+json": {
       "model_id": "6ae3cb33db154b66af3e63faa9649bd7",
       "version_major": 2,
       "version_minor": 0
      },
      "text/plain": [
       "HBox(children=(VBox(children=(Checkbox(value=True, description='Donostia'), Checkbox(value=False, description=…"
      ]
     },
     "metadata": {},
     "output_type": "display_data"
    },
    {
     "data": {
      "application/vnd.jupyter.widget-view+json": {
       "model_id": "0b34cf3b5ca144ceac4b84f3e98a416a",
       "version_major": 2,
       "version_minor": 0
      },
      "text/plain": [
       "Output()"
      ]
     },
     "metadata": {},
     "output_type": "display_data"
    }
   ],
   "source": [
    "\n",
    "ui2 = widgets.HBox([box21,box22,box23,box24])\n",
    "\n",
    "out2 = widgets.interactive_output(plot_gr2, {'ch_don':ch2_don,'ch_bil': ch2_bil, 'ch_gas': ch2_gas,'ch_iru': ch2_iru,'ch_afj': ch2_afj, 'ch_reu': ch2_reu,'ch_tgn': ch2_tgn,'ch_vig': ch2_vig, 'ch_vlp': ch2_vlp,'ch_alf': ch2_alf,'ch_mus': ch2_mus, 'ch_alb': ch2_alb,'ch_ale': ch2_ale}) #kkk\n",
    "\n",
    "display(ui2, out2)"
   ]
  },
  {
   "cell_type": "markdown",
   "id": "2c61251c",
   "metadata": {},
   "source": [
    "### Grafika 3: Hilabete bakoitzeko euri kopurua. Tokia eta urtea aukeratu daitezke"
   ]
  },
  {
   "cell_type": "code",
   "execution_count": 14,
   "id": "b8fc431c",
   "metadata": {},
   "outputs": [],
   "source": [
    "ch3_don=widgets.Checkbox(value=True, description=\"Donostia\")\n",
    "ch3_bil=widgets.Checkbox(value=False, description=\"Bilbo\")\n",
    "ch3_gas=widgets.Checkbox(value=False, description=\"Gasteiz\")\n",
    "ch3_iru=widgets.Checkbox(value=False, description=\"Iruña\")\n",
    "ch3_afj=widgets.Checkbox(value=False, description=\"Alforja (AEMETE)\")\n",
    "ch3_reu=widgets.Checkbox(value=False, description=\"Reus\")\n",
    "ch3_tgn=widgets.Checkbox(value=False, description=\"Tarragona\")\n",
    "ch3_vig=widgets.Checkbox(value=False, description=\"Vigo\")\n",
    "ch3_vlp=widgets.Checkbox(value=False, description=\"Vilaplana\")\n",
    "ch3_mus=widgets.Checkbox(value=False, description=\"Mussara\")\n",
    "ch3_alf=widgets.Checkbox(value=False, description=\"Alforja (MeteoPr)\")\n",
    "ch3_ale=widgets.Checkbox(value=False, description=\"L'Aleixar\")\n",
    "ch3_alb=widgets.Checkbox(value=False, description=\"L'Albiol\")\n",
    "\n",
    "box31 = VBox([ch3_don,ch3_bil,ch3_gas])\n",
    "box32 = VBox([ch3_iru,ch3_afj,ch3_reu])\n",
    "box33 = VBox([ch3_tgn,ch3_vig,ch3_vlp])\n",
    "box34 = VBox([ch3_alf,ch3_mus,ch3_ale,ch3_alb])\n",
    "\n",
    "drop3_urtea = widgets.Dropdown(\n",
    "    options=['2022','2021','2020','2019','2018','2017','2016','2015','2014'],\n",
    "    value='2021',\n",
    "    description='Urtea:',\n",
    "    disabled=False,\n",
    ")"
   ]
  },
  {
   "cell_type": "code",
   "execution_count": 15,
   "id": "6f95885e",
   "metadata": {},
   "outputs": [],
   "source": [
    "def plot_gr3(ch_don,ch_bil,ch_gas,ch_iru,ch_afj,ch_reu,ch_tgn,ch_vig,ch_vlp,ch_mus,ch_alf,ch_ale,ch_alb,urtea):#Aurre\n",
    "    plt.clf()\n",
    "    plt.cla()\n",
    "    plt.close()\n",
    "    df_gr3=pd.DataFrame()\n",
    "#Hurcrengoak bi kondizio ditu, eta aurkitu nuen Numpy-k hobeto egiten duela:\n",
    "#https://towardsdatascience.com/fix-valueerror-truth-value-of-a-series-is-ambiguous-pandas-a683f0fd1b2f\n",
    "    if (ch_don):\n",
    "        df_don = euridunak[euridunak['Tokia'] == 'Donostia']\n",
    "    else:\n",
    "        df_don = pd.DataFrame()\n",
    "        \n",
    "    if (ch_bil):\n",
    "        df_bil = euridunak[uridunak['Tokia'] == 'Bilbo']\n",
    "    else:\n",
    "        df_bil = pd.DataFrame()\n",
    "    \n",
    "    if (ch_gas):\n",
    "        df_gas = euridunak[euridunak['Tokia'] == 'Gasteiz']\n",
    "    else:\n",
    "        df_gas = pd.DataFrame()\n",
    "    \n",
    "    if (ch_iru):\n",
    "        df_iru = euridunak[euridunak['Tokia'] == 'Iruña']\n",
    "    else:\n",
    "        df_iru = pd.DataFrame()\n",
    "    \n",
    "    if (ch_afj):\n",
    "        df_afj = euridunak[euridunak['Tokia'] == 'Alforja']\n",
    "    else:\n",
    "        df_afj = pd.DataFrame()\n",
    "    \n",
    "    if (ch_reu):\n",
    "        df_reu = euridunak[euridunak['Tokia'] == 'Reus']\n",
    "    else:\n",
    "        df_reu = pd.DataFrame()\n",
    "    \n",
    "    if (ch_tgn):\n",
    "        df_tgn = euridunak[euridunak['Tokia'] == 'Tarragona']\n",
    "    else:\n",
    "        df_tgn = pd.DataFrame()\n",
    "    \n",
    "    if (ch_vig):\n",
    "        df_vig = euridunak[euridunak['Tokia'] == 'Vigo']\n",
    "    else:\n",
    "        df_vig = pd.DataFrame()\n",
    "    \n",
    "    if (ch_vlp):\n",
    "        df_vlp = euridunak[euridunak['Tokia'] == 'vilaplana']\n",
    "    else:\n",
    "        df_vlp = pd.DataFrame()\n",
    "        \n",
    "    if (ch_alf):\n",
    "        df_alf = euridunak[euridunak['Tokia'] == 'alforja']\n",
    "    else:\n",
    "        df_alf = pd.DataFrame()\n",
    "        \n",
    "    if (ch_mus):\n",
    "        df_mus = euridunak[euridunak['Tokia'] == 'la-mussara']\n",
    "    else:\n",
    "        df_mus = pd.DataFrame()\n",
    "        \n",
    "    if (ch_ale):\n",
    "        df_ale = euridunak[euridunak['Tokia'] == 'laleixar']\n",
    "    else:\n",
    "        df_ale = pd.DataFrame()\n",
    "        \n",
    "    if (ch_alb):\n",
    "        df_alb = euridunak[euridunak['Tokia'] == 'lalbiol']\n",
    "    else:\n",
    "        df_alb = pd.DataFrame()\n",
    "        \n",
    "    df_gr3 = pd.concat([df_don, df_bil,df_gas,df_iru,df_afj,df_reu,df_tgn,df_vig,df_vlp,df_alf,df_mus,df_ale,df_alb], ignore_index=True, axis=0)\n",
    "\n",
    "#Orain, Hilabete eta urteka taldekatu\n",
    "    datuak_gr3=df_gr3[df_gr3['Urtea'] == int(urtea)].sort_values(['Hilab','Tokia'],ascending=True).groupby(['Hilab','Tokia'], sort = False).sum()['Euria'] \n",
    "\n",
    "    datuak_gr3.unstack().plot(kind='bar')\n",
    "\n",
    "    plt.xticks(rotation=45)\n",
    "    #plt.yticks(color='red')\n",
    "    plt.ylabel('Euria (l)',fontsize='20')\n",
    "    plt.title('Euria '+'('+urtea+')',fontsize='14')\n",
    "\n",
    "    return plt.show()"
   ]
  },
  {
   "cell_type": "code",
   "execution_count": 16,
   "id": "565a533b",
   "metadata": {},
   "outputs": [
    {
     "data": {
      "application/vnd.jupyter.widget-view+json": {
       "model_id": "936600b5842e4aa9a12e00bbd7613cc3",
       "version_major": 2,
       "version_minor": 0
      },
      "text/plain": [
       "HBox(children=(VBox(children=(Checkbox(value=True, description='Donostia'), Checkbox(value=False, description=…"
      ]
     },
     "metadata": {},
     "output_type": "display_data"
    },
    {
     "data": {
      "application/vnd.jupyter.widget-view+json": {
       "model_id": "f323907b1d5445a890ea901ef12af12a",
       "version_major": 2,
       "version_minor": 0
      },
      "text/plain": [
       "Output()"
      ]
     },
     "metadata": {},
     "output_type": "display_data"
    }
   ],
   "source": [
    "\n",
    "ui3 = widgets.HBox([box31,box32,box33,box34,drop3_urtea])\n",
    "\n",
    "out3 = widgets.interactive_output(plot_gr3, {'ch_don':ch3_don,'ch_bil': ch3_bil, 'ch_gas': ch3_gas,'ch_iru': ch3_iru,'ch_afj': ch3_afj, 'ch_reu': ch3_reu,'ch_tgn': ch3_tgn,'ch_vig': ch3_vig, 'ch_vlp': ch3_vlp,'ch_alf': ch3_alf,'ch_mus': ch3_mus, 'ch_alb': ch3_alb,'ch_ale': ch3_ale, 'urtea': drop3_urtea}) #kkk\n",
    "\n",
    "display(ui3, out3)"
   ]
  },
  {
   "cell_type": "markdown",
   "id": "5864591f",
   "metadata": {},
   "source": [
    "### Grafika 5: Toki baterako, urte desberdineko hilabeteak konparatu"
   ]
  },
  {
   "cell_type": "code",
   "execution_count": 24,
   "id": "2c2f6d88",
   "metadata": {},
   "outputs": [],
   "source": [
    "drop5_tokia = widgets.Dropdown(\n",
    "    options=['Donostia','Bilbo','Gasteiz','Iruña','Alforja','Reus','Tarragona','Vigo','vilaplana','alforja','la-mussara','laleixar','lalbiol'],###,\n",
    "    value='Donostia',\n",
    "    description='Non:',\n",
    "    disabled=False,\n",
    ")\n",
    "\n",
    "ch5_22=widgets.Checkbox(value=True, description=\"2022\")\n",
    "ch5_21=widgets.Checkbox(value=True, description=\"2021\")\n",
    "ch5_20=widgets.Checkbox(value=False, description=\"2020\")\n",
    "ch5_19=widgets.Checkbox(value=False, description=\"2019\")\n",
    "ch5_18=widgets.Checkbox(value=False, description=\"2018\")\n",
    "ch5_17=widgets.Checkbox(value=False, description=\"2017\")\n",
    "ch5_16=widgets.Checkbox(value=False, description=\"2016\")\n",
    "ch5_15=widgets.Checkbox(value=False, description=\"2015\")\n",
    "ch5_14=widgets.Checkbox(value=False, description=\"2014\")\n",
    "ch5_13=widgets.Checkbox(value=False, description=\"2013\")\n",
    "\n",
    "box51 = VBox([ch5_22,ch5_21,drop5_tokia])\n",
    "box52 = VBox([ch5_20,ch5_19])\n",
    "box53 = VBox([ch5_18,ch5_17])\n",
    "box54 = VBox([ch5_16,ch5_15])\n",
    "box55 = VBox([ch5_14,ch5_13])\n"
   ]
  },
  {
   "cell_type": "code",
   "execution_count": 26,
   "id": "a97c9de5",
   "metadata": {},
   "outputs": [],
   "source": [
    "def plot_gr5(ch_22,ch_21,ch_20,ch_19,ch_18,ch_17,ch_16,ch_15,ch_14,ch_13,tokia):#Aurrena, toki baten euridun egunak gorde DF berri batean\n",
    "    plt.clf()\n",
    "    plt.cla()\n",
    "    plt.close()\n",
    "    \n",
    "    df_gr5=pd.DataFrame()\n",
    "#Hurcrengoak bi kondizio ditu, eta aurkitu nuen Numpy-k hobeto egiten duela:\n",
    "#https://towardsdatascience.com/fix-valueerror-truth-value-of-a-series-is-ambiguous-pandas-a683f0fd1b2f\n",
    "    if (ch_22):\n",
    "        df_22 = euridunak[np.logical_and(euridunak['Urtea'] == 2022, euridunak['Tokia'] == tokia)]\n",
    "    else:\n",
    "        df_22 = pd.DataFrame()\n",
    "    \n",
    "    if (ch_21):\n",
    "        df_21 = euridunak[np.logical_and(euridunak['Urtea'] == 2021, euridunak['Tokia'] == tokia)]\n",
    "    else:\n",
    "        df_21 = pd.DataFrame()\n",
    "    \n",
    "    if (ch_20):\n",
    "        df_20 = euridunak[np.logical_and(euridunak['Urtea'] == 2020, euridunak['Tokia'] == tokia)]\n",
    "    else:\n",
    "        df_20 = pd.DataFrame()\n",
    "        \n",
    "    if (ch_19):\n",
    "        df_19 = euridunak[np.logical_and(euridunak['Urtea'] == 2019, euridunak['Tokia'] == tokia)]\n",
    "    else:\n",
    "        df_19 = pd.DataFrame()\n",
    "        \n",
    "    if (ch_18):\n",
    "        df_18 = euridunak[np.logical_and(euridunak['Urtea'] == 2018, euridunak['Tokia'] == tokia)]\n",
    "    else:\n",
    "        df_18 = pd.DataFrame()\n",
    "        \n",
    "    if (ch_17):\n",
    "        df_17 = euridunak[np.logical_and(euridunak['Urtea'] == 2017, euridunak['Tokia'] == tokia)]\n",
    "    else:\n",
    "        df_17 = pd.DataFrame()\n",
    "        \n",
    "    if (ch_16):\n",
    "        df_16 = euridunak[np.logical_and(euridunak['Urtea'] == 2016, euridunak['Tokia'] == tokia)]\n",
    "    else:\n",
    "        df_16 = pd.DataFrame()\n",
    "        \n",
    "    if (ch_15):\n",
    "        df_15 = euridunak[np.logical_and(euridunak['Urtea'] == 2015, euridunak['Tokia'] == tokia)]\n",
    "    else:\n",
    "        df_15 = pd.DataFrame()\n",
    "        \n",
    "    if (ch_14):\n",
    "        df_14 = euridunak[np.logical_and(euridunak['Urtea'] == 2014, euridunak['Tokia'] == tokia)]\n",
    "    else:\n",
    "        df_14 = pd.DataFrame()\n",
    "        \n",
    "    if (ch_13):\n",
    "        df_13 = euridunak[np.logical_and(euridunak['Urtea'] == 2013, euridunak['Tokia'] == tokia)]\n",
    "    else:\n",
    "        df_13 = pd.DataFrame()\n",
    "    \n",
    "    df_gr5 = pd.concat([df_22,df_21,df_20,df_19,df_18,df_17,df_16,df_15,df_14,df_13], ignore_index=True, axis=0)\n",
    "#euridunak[(euridunak['España'] == 'Alforja' or euridunak['España'] == 'Vigo') ]\n",
    "\n",
    "\n",
    "#Orain, Hilabete eta urteka taldekatu\n",
    "    datuak_gr5=df_gr5.sort_values(['Hilab','Urtea'],ascending=True).groupby(['Hilab','Urtea'], sort = False).sum()['Euria'] \n",
    "\n",
    "    datuak_gr5.unstack().plot(kind='bar')\n",
    "    \n",
    "    #plt.figure(num='Grafika 5');\n",
    "\n",
    "    plt.xticks(rotation=45)\n",
    "    #plt.yticks(color='red')\n",
    "    plt.ylabel('Euria (l)',fontsize='20')\n",
    "    plt.title('Euria '+'('+tokia+')',fontsize='14')\n",
    "    plt.rcParams['figure.figsize'] = (12.8,11.2)\n",
    "\n",
    "    return plt.show()"
   ]
  },
  {
   "cell_type": "code",
   "execution_count": 25,
   "id": "c9035fb1",
   "metadata": {},
   "outputs": [
    {
     "data": {
      "application/vnd.jupyter.widget-view+json": {
       "model_id": "1c648fc4b7bd4d9193838682735ba097",
       "version_major": 2,
       "version_minor": 0
      },
      "text/plain": [
       "HBox(children=(VBox(children=(Checkbox(value=True, description='2022'), Checkbox(value=True, description='2021…"
      ]
     },
     "metadata": {},
     "output_type": "display_data"
    },
    {
     "data": {
      "application/vnd.jupyter.widget-view+json": {
       "model_id": "2a6bff1128614438b81b0e1e1306a01f",
       "version_major": 2,
       "version_minor": 0
      },
      "text/plain": [
       "Output()"
      ]
     },
     "metadata": {},
     "output_type": "display_data"
    }
   ],
   "source": [
    "\n",
    "ui5 = widgets.HBox([box51,box52,box53,box54,box55])\n",
    "\n",
    "out5 = widgets.interactive_output(plot_gr5, {'ch_22':ch5_22,'ch_21':ch5_21,'ch_20':ch5_20,'ch_19':ch5_19,'ch_18':ch5_18,'ch_17':ch5_17,'ch_16':ch5_16,'ch_15':ch5_15,'ch_14':ch5_14,'ch_13':ch5_13, 'tokia': drop5_tokia}) #kkk\n",
    "\n",
    "display(ui5, out5)"
   ]
  },
  {
   "cell_type": "markdown",
   "id": "2c92cc61",
   "metadata": {},
   "source": [
    "### Grafika 6: Haize-egunak urteko\n",
    "Momentuz ez du ondo funtzionatzen. Eremuarekin aukeratu eremuan ez badago hazi egunik\n",
    "(daturik ez badago), errorea ematen du. Ez det konpondu"
   ]
  },
  {
   "cell_type": "code",
   "execution_count": 27,
   "id": "ea240ca5",
   "metadata": {},
   "outputs": [],
   "source": [
    "ch6_don=widgets.Checkbox(value=True, description=\"Donostia\")\n",
    "ch6_bil=widgets.Checkbox(value=False, description=\"Bilbo\")\n",
    "ch6_gas=widgets.Checkbox(value=False, description=\"Gasteiz\")\n",
    "ch6_iru=widgets.Checkbox(value=False, description=\"Iruña\")\n",
    "ch6_afj=widgets.Checkbox(value=False, description=\"Alforja (AE)\")\n",
    "ch6_reu=widgets.Checkbox(value=False, description=\"Reus\")\n",
    "ch6_tgn=widgets.Checkbox(value=False, description=\"Tarragona\")\n",
    "ch6_vig=widgets.Checkbox(value=False, description=\"Vigo\")\n",
    "ch6_vlp=widgets.Checkbox(value=False, description=\"Vilaplana\")\n",
    "ch6_mus=widgets.Checkbox(value=False, description=\"Mussara\")\n",
    "ch6_alf=widgets.Checkbox(value=False, description=\"Alforja (MP)\")\n",
    "ch6_ale=widgets.Checkbox(value=False, description=\"L'Aleixar\")\n",
    "ch6_alb=widgets.Checkbox(value=False, description=\"L'Albiol\")\n",
    "\n",
    "eremu=widgets.IntRangeSlider(\n",
    "    value=[50, 200],\n",
    "    min=0,\n",
    "    max=200,\n",
    "    step=10,\n",
    "    description='Haizea:',\n",
    "    disabled=False,\n",
    "    continuous_update=False,\n",
    "    orientation='horizontal',\n",
    "    readout=True,\n",
    "    readout_format='d',\n",
    ")\n",
    "\n",
    "box61 = HBox([ch6_don,ch6_bil,ch6_gas,ch6_iru,ch6_reu])\n",
    "box62 = HBox([ch6_vlp,ch6_mus,ch6_afj,ch6_ale,ch6_alb])\n",
    "box63 = HBox([ch6_tgn,ch6_vig,ch6_alf])\n"
   ]
  },
  {
   "cell_type": "code",
   "execution_count": 28,
   "id": "24ec42bc",
   "metadata": {},
   "outputs": [],
   "source": [
    "def plot_gr6(ch_don,ch_bil,ch_gas,ch_iru,ch_afj,ch_reu,ch_tgn,ch_vig,ch_vlp,ch_mus,ch_alf,ch_ale,ch_alb,eremu):#Aurrena, toki baten euridun egunak gorde DF berri batean\n",
    "    plt.clf()\n",
    "    plt.cla()\n",
    "    plt.close()\n",
    "    df_gr6=pd.DataFrame()\n",
    "#Hurcrengoak bi kondizio ditu, eta aurkitu nuen Numpy-k hobeto egiten duela:\n",
    "#https://towardsdatascience.com/fix-valueerror-truth-value-of-a-series-is-ambiguous-pandas-a683f0fd1b2f\n",
    "    if (ch_don):\n",
    "        df_don = df_all[df_all['Tokia'] == 'Donostia']\n",
    "    else:\n",
    "        df_don = pd.DataFrame()\n",
    "        \n",
    "    if (ch_bil):\n",
    "        df_bil = df_all[df_all['Tokia'] == 'Bilbo']\n",
    "    else:\n",
    "        df_bil = pd.DataFrame()\n",
    "    \n",
    "    if (ch_gas):\n",
    "        df_gas = df_all[df_all['Tokia'] == 'Gasteiz']\n",
    "    else:\n",
    "        df_gas = pd.DataFrame()\n",
    "    \n",
    "    if (ch_iru):\n",
    "        df_iru = df_all[df_all['Tokia'] == 'Iruña']\n",
    "    else:\n",
    "        df_iru = pd.DataFrame()\n",
    "        \n",
    "    if (ch_afj):\n",
    "        df_afj = df_all[df_all['Tokia'] == 'Alforja']\n",
    "    else:\n",
    "        df_afj = pd.DataFrame()\n",
    "    \n",
    "    if (ch_reu):\n",
    "        df_reu = df_all[df_all['Tokia'] == 'Reus']\n",
    "    else:\n",
    "        df_reu = pd.DataFrame()\n",
    "    \n",
    "    if (ch_tgn):\n",
    "        df_tgn = df_all[df_all['Tokia'] == 'Tarragona']\n",
    "    else:\n",
    "        df_tgn = pd.DataFrame()\n",
    "    \n",
    "    if (ch_vig):\n",
    "        df_vig = df_all[df_all['Tokia'] == 'Vigo']\n",
    "    else:\n",
    "        df_vig = pd.DataFrame()\n",
    "        \n",
    "    if (ch_vlp):\n",
    "        df_vlp = df_all[df_all['Tokia'] == 'vilaplana']\n",
    "    else:\n",
    "        df_vlp = pd.DataFrame()\n",
    "        \n",
    "    if (ch_alf):\n",
    "        df_alf = df_all[df_all['Tokia'] == 'alforja']\n",
    "    else:\n",
    "        df_alf = pd.DataFrame()\n",
    "        \n",
    "    if (ch_mus):\n",
    "        df_mus = df_all[df_all['Tokia'] == 'la-mussara']\n",
    "    else:\n",
    "        df_mus = pd.DataFrame()\n",
    "        \n",
    "    if (ch_ale):\n",
    "        df_ale = df_all[df_all['Tokia'] == 'laleixar']\n",
    "    else:\n",
    "        df_ale = pd.DataFrame()\n",
    "        \n",
    "    if (ch_alb):\n",
    "        df_alb = df_all[df_all['Tokia'] == 'lalbiol']\n",
    "    else:\n",
    "        df_alb = pd.DataFrame()\n",
    "        \n",
    "    df_gr6 = pd.concat([df_don, df_bil,df_gas,df_iru,df_afj,df_reu,df_tgn,df_vig,df_vlp,df_alf,df_mus,df_ale,df_alb], ignore_index=True, axis=0)\n",
    "    \n",
    "    #Orain, abiadura eremukoak filtratu\n",
    "    haizedunak = df_gr6[np.logical_and(df_gr6['Vmax'] > eremu[0] , df_gr6['Vmax'] < eremu[1])]\n",
    "    \n",
    "    #Eremuraren arabera, haizedunak ez du daturik, eta errorea ematen du. Konpontzeko:\n",
    "    \n",
    "    if (haizedunak.empty):\n",
    "        datuak_gr6 = pd.DataFrame(0, index=range(2), columns=range(6))   \n",
    "    else:\n",
    "    #Orain, Hilabete eta urteka taldekatu\n",
    "        datuak_gr6=haizedunak.sort_values(['Urtea','Tokia'],ascending=True).groupby(['Urtea','Tokia'], sort = False).agg(np.size)['Eguna'] \n",
    "\n",
    "    datuak_gr6.unstack().plot(kind='bar')\n",
    "\n",
    "    plt.xticks(rotation=45)\n",
    "    #plt.yticks(color='red')\n",
    "    plt.ylabel('Haize-egunak',fontsize='20')\n",
    "    plt.title('Haize-egunak',fontsize='14')\n",
    "    \n",
    "    if (haizedunak.empty):\n",
    "        plt.text(3, 5, 'Ez dago daturik')\n",
    "\n",
    "    return plt.show(),plt.close()"
   ]
  },
  {
   "cell_type": "code",
   "execution_count": 29,
   "id": "80ebb03d",
   "metadata": {},
   "outputs": [
    {
     "data": {
      "application/vnd.jupyter.widget-view+json": {
       "model_id": "3a8a63bc3aa340f991baa22a4191295e",
       "version_major": 2,
       "version_minor": 0
      },
      "text/plain": [
       "VBox(children=(HBox(children=(Checkbox(value=True, description='Donostia'), Checkbox(value=False, description=…"
      ]
     },
     "metadata": {},
     "output_type": "display_data"
    },
    {
     "data": {
      "application/vnd.jupyter.widget-view+json": {
       "model_id": "45998d913de44768b2001d8f6dd6aea4",
       "version_major": 2,
       "version_minor": 0
      },
      "text/plain": [
       "Output()"
      ]
     },
     "metadata": {},
     "output_type": "display_data"
    }
   ],
   "source": [
    "ui6 = widgets.VBox([box61,box62,box63,eremu])\n",
    "\n",
    "#out6 = widgets.interactive_output(def_sei, {'eremu':eremu})\n",
    "out6 = widgets.interactive_output(plot_gr6, {'ch_don':ch6_don,'ch_bil': ch6_bil, 'ch_gas': ch6_gas,'ch_iru': ch6_iru,'ch_afj': ch6_afj, 'ch_reu': ch6_reu,'ch_tgn': ch6_tgn,'ch_vig': ch6_vig, 'ch_vlp': ch6_vlp,'ch_alf': ch6_alf,'ch_mus': ch6_mus, 'ch_alb': ch6_alb,'ch_ale': ch6_ale,'eremu': eremu}) #kkk\n",
    "\n",
    "display(ui6, out6)"
   ]
  },
  {
   "cell_type": "markdown",
   "id": "72c13fd2",
   "metadata": {},
   "source": [
    "### Taulak"
   ]
  },
  {
   "cell_type": "code",
   "execution_count": 20,
   "id": "9d97edff",
   "metadata": {},
   "outputs": [],
   "source": [
    "tmax_all = df_all.sort_values(by='Tmax',ascending=False)\n",
    "tmax_all.reset_index(inplace = True)"
   ]
  },
  {
   "cell_type": "code",
   "execution_count": 21,
   "id": "3a9cad34",
   "metadata": {},
   "outputs": [],
   "source": [
    "tabl1_zer=widgets.Dropdown(\n",
    "    options=['Tmax', 'Tmin','Euria', 'Vmax'],\n",
    "    value='Tmax',\n",
    "    description='Zer:',\n",
    "    disabled=False,\n",
    ")\n",
    "\n",
    "tabl1_non=widgets.Dropdown(\n",
    "    options=['Guztiak','Donostia', 'Bilbo', 'Gasteiz','Iruña','Alforja','Reus','Tarragona','Vigo','vilaplana','la-mussara','alforja','laleixar','lalbiol'],###],\n",
    "    value='Guztiak',\n",
    "    description='Non:',\n",
    "    disabled=False,\n",
    ")\n",
    "\n",
    "tabl1_zenb=widgets.Dropdown(\n",
    "    options=[5,10,20,50],\n",
    "    value=10,\n",
    "    description='Zenbat:',\n",
    "    disabled=False,\n",
    ")"
   ]
  },
  {
   "cell_type": "code",
   "execution_count": 22,
   "id": "ad948064",
   "metadata": {},
   "outputs": [],
   "source": [
    "def tabl_1(zer,non,zenbat):\n",
    "    #Balio guztiekin kalkulatu\n",
    "    data_all = df_all.sort_values(by=zer,ascending=False)\n",
    "    data_all.reset_index(inplace = True)\n",
    "    #Orain, filtratu toki konkretu baterako\n",
    "    if (non=='Guztiak'):        \n",
    "        if (zer=='Tmin'):\n",
    "            data_non=data_all.sort_values(by=zer,ascending=True)\n",
    "        else:\n",
    "            data_non=data_all.sort_values(by=zer,ascending=False)\n",
    "    else: #Ez guztiak, hau da, toki konkretu bat\n",
    "        if (zer=='Tmin'):\n",
    "            data_non=data_all.loc[data_all['Tokia'] == non].sort_values(by=zer,ascending=True)\n",
    "        else:\n",
    "            data_non=data_all.loc[data_all['Tokia'] == non].sort_values(by=zer,ascending=False)\n",
    "    data_non.reset_index(inplace = True)\n",
    "    return data_non[['Tokia','Eguna','Hilab','Urtea',zer]][:zenbat]"
   ]
  },
  {
   "cell_type": "code",
   "execution_count": 23,
   "id": "9dac4953",
   "metadata": {},
   "outputs": [
    {
     "data": {
      "application/vnd.jupyter.widget-view+json": {
       "model_id": "bef29bf3578d49baa77f76652eea7cbb",
       "version_major": 2,
       "version_minor": 0
      },
      "text/plain": [
       "interactive(children=(Dropdown(description='Zer:', options=('Tmax', 'Tmin', 'Euria', 'Vmax'), value='Tmax'), D…"
      ]
     },
     "metadata": {},
     "output_type": "display_data"
    },
    {
     "data": {
      "text/plain": [
       "<function __main__.tabl_1(zer, non, zenbat)>"
      ]
     },
     "execution_count": 23,
     "metadata": {},
     "output_type": "execute_result"
    }
   ],
   "source": [
    "widgets.interact(tabl_1,zer=tabl1_zer,non=tabl1_non,zenbat=tabl1_zenb)"
   ]
  }
 ],
 "metadata": {
  "kernelspec": {
   "display_name": "Python 3 (ipykernel)",
   "language": "python",
   "name": "python3"
  },
  "language_info": {
   "codemirror_mode": {
    "name": "ipython",
    "version": 3
   },
   "file_extension": ".py",
   "mimetype": "text/x-python",
   "name": "python",
   "nbconvert_exporter": "python",
   "pygments_lexer": "ipython3",
   "version": "3.8.5"
  }
 },
 "nbformat": 4,
 "nbformat_minor": 5
}
